{
 "cells": [
  {
   "cell_type": "code",
   "execution_count": 3,
   "metadata": {},
   "outputs": [
    {
     "data": {
      "text/html": [
       "<table class=\"dataframe\">\n",
       "<caption>A tibble: 6 × 2</caption>\n",
       "<thead>\n",
       "\t<tr><th scope=col>Type</th><th scope=col>Acc</th></tr>\n",
       "\t<tr><th scope=col>&lt;chr&gt;</th><th scope=col>&lt;dbl&gt;</th></tr>\n",
       "</thead>\n",
       "<tbody>\n",
       "\t<tr><td>scrambled</td><td>0.4928125</td></tr>\n",
       "\t<tr><td>original </td><td>0.8450000</td></tr>\n",
       "\t<tr><td>scrambled</td><td>0.4865625</td></tr>\n",
       "\t<tr><td>original </td><td>0.9100000</td></tr>\n",
       "\t<tr><td>scrambled</td><td>0.4734375</td></tr>\n",
       "\t<tr><td>original </td><td>0.8850000</td></tr>\n",
       "</tbody>\n",
       "</table>\n"
      ],
      "text/latex": [
       "A tibble: 6 × 2\n",
       "\\begin{tabular}{ll}\n",
       " Type & Acc\\\\\n",
       " <chr> & <dbl>\\\\\n",
       "\\hline\n",
       "\t scrambled & 0.4928125\\\\\n",
       "\t original  & 0.8450000\\\\\n",
       "\t scrambled & 0.4865625\\\\\n",
       "\t original  & 0.9100000\\\\\n",
       "\t scrambled & 0.4734375\\\\\n",
       "\t original  & 0.8850000\\\\\n",
       "\\end{tabular}\n"
      ],
      "text/markdown": [
       "\n",
       "A tibble: 6 × 2\n",
       "\n",
       "| Type &lt;chr&gt; | Acc &lt;dbl&gt; |\n",
       "|---|---|\n",
       "| scrambled | 0.4928125 |\n",
       "| original  | 0.8450000 |\n",
       "| scrambled | 0.4865625 |\n",
       "| original  | 0.9100000 |\n",
       "| scrambled | 0.4734375 |\n",
       "| original  | 0.8850000 |\n",
       "\n"
      ],
      "text/plain": [
       "  Type      Acc      \n",
       "1 scrambled 0.4928125\n",
       "2 original  0.8450000\n",
       "3 scrambled 0.4865625\n",
       "4 original  0.9100000\n",
       "5 scrambled 0.4734375\n",
       "6 original  0.8850000"
      ]
     },
     "metadata": {},
     "output_type": "display_data"
    }
   ],
   "source": [
    "library(tidyverse)\n",
    "\n",
    "original <- c(0.845, 0.91 , 0.885, 0.865, 0.86 , 0.86 , 0.92 , 0.885, 0.885,\n",
    "       0.925, 0.935, 0.915, 0.885, 0.89 , 0.92 , 0.905, 0.93 , 0.895,\n",
    "       0.91 , 0.89 )\n",
    "scrambled <- c(0.4928125, 0.4865625, 0.4734375, 0.50875  , 0.5021875, 0.5046875,\n",
    "       0.48875  , 0.5053125, 0.4878125, 0.486875 , 0.4928125, 0.4878125,\n",
    "       0.5003125, 0.49625  , 0.4859375, 0.519375 , 0.5003125, 0.4890625,\n",
    "       0.51625  , 0.500625)\n",
    "dat <- tibble(scrambled = scrambled, original = original)\n",
    "dat <- dat %>% pivot_longer(cols = c(scrambled, original), names_to = 'Type', values_to = 'Acc')\n",
    "\n",
    "head(dat)"
   ]
  },
  {
   "cell_type": "code",
   "execution_count": 2,
   "metadata": {},
   "outputs": [
    {
     "data": {
      "image/png": "[encoded data removed]",
      "text/plain": [
       "plot without title"
      ]
     },
     "metadata": {
      "image/png": {
       "height": 360,
       "width": 600
      }
     },
     "output_type": "display_data"
    }
   ],
   "source": [
    "# plot \n",
    "# General Setting\n",
    "options(repr.plot.width = 10, repr.plot.height = 6, warn = -1) \n",
    "\n",
    "ggplot(dat, aes(x=Type, y=Acc))+\n",
    "geom_point(aes(color = Type), size = 3)+\n",
    "theme_bw()+\n",
    "scale_color_manual(values = c('#FFBE7A','#8ECFC9'))+\n",
    "labs(x = 'Data Type', y = 'Acc (cross validation)')+\n",
    "theme(text = element_text(size = 18,\n",
    "                          color = 'black',\n",
    "                          family = 'Arial',\n",
    "                          face = 'italic'),\n",
    "      panel.border = element_rect(size = 1),\n",
    "      legend.position = 'bottom')"
   ]
  },
  {
   "cell_type": "code",
   "execution_count": null,
   "metadata": {},
   "outputs": [],
   "source": []
  }
 ],
 "metadata": {
  "kernelspec": {
   "display_name": "R",
   "language": "R",
   "name": "ir"
  },
  "language_info": {
   "codemirror_mode": "r",
   "file_extension": ".r",
   "mimetype": "text/x-r-source",
   "name": "R",
   "pygments_lexer": "r",
   "version": "4.2.1"
  }
 },
 "nbformat": 4,
 "nbformat_minor": 2
}
